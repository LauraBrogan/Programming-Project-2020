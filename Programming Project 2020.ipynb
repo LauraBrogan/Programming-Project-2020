{
 "cells": [
  {
   "cell_type": "markdown",
   "metadata": {},
   "source": [
    "# Programming for Data Analysis Project 2020\n",
    "This project looks at a real-life phenomenon that can be measured using at least four variable and at least 100 data observations, to examine the variables, their possible distribution and inter-relationships and stimulates a data set based on these findings within this Jupyter notebook.\n",
    "\n",
    "I am going to base my project on Information fromt he Central Statistics Office on the Probation Re-Offending Statistics 2016"
   ]
  },
  {
   "cell_type": "markdown",
   "metadata": {},
   "source": [
    "Importation of libaries and packages and the strucutre of the notebook:"
   ]
  },
  {
   "cell_type": "code",
   "execution_count": 2,
   "metadata": {},
   "outputs": [],
   "source": [
    "#import the pandas library for df creation and rename it pd\n",
    "import pandas as pd\n",
    "#import the NumPy library in order to use the random package and name it np\n",
    "import numpy as np\n",
    "#import the matplotlib library, package pyplot for plotting and name it plt\n",
    "import matplotlib.pyplot as plt\n",
    "#import the seaborn library for plotting and name it sns\n",
    "import seaborn as sns\n",
    "# Updating the font size of the plot \n",
    "# Taken from https://stackoverflow.com/questions/3899980/how-to-change-the-font-size-on-a-matplotlib-plot\n",
    "plt.rcParams.update({'font.size': 22})\n",
    "# Updating the font size of the plot \n",
    "# set the size of the figure for seaborn plots\n",
    "# taken from https://stackoverflow.com/a/47955814/11250489\n",
    "sns.set(rc={'figure.figsize':(11.7,8.27)})\n",
    "# set the random seed to that results are reproducable while I am testing\n",
    "np.random.seed = (27)"
   ]
  },
  {
   "cell_type": "code",
   "execution_count": null,
   "metadata": {},
   "outputs": [],
   "source": [
    "Probation Re-offending:"
   ]
  },
  {
   "cell_type": "code",
   "execution_count": 9,
   "metadata": {},
   "outputs": [],
   "source": [
    "# Create array for each group\n",
    "# First set the samplesize for each group\n",
    "sample1 = 150\n",
    "sample2 = 500\n",
    "sample3 = 350\n",
    "#Taken from https://thispointer.com/python-how-to-create-a-list-and-initialize-with-same-values/\n",
    "group1 = [\"Age\"] * sample1\n",
    "group2 = [\"One Year re-offending Rate\"] * sample2\n",
    "group3 = [\"Period to Re-Offence\"] *sample3\n"
   ]
  },
  {
   "cell_type": "code",
   "execution_count": 10,
   "metadata": {},
   "outputs": [],
   "source": [
    "# Concatenate into one array.\n",
    "reoffending = np.concatenate([group1, group2, group3])"
   ]
  },
  {
   "cell_type": "code",
   "execution_count": 11,
   "metadata": {},
   "outputs": [
    {
     "data": {
      "text/plain": [
       "1000"
      ]
     },
     "execution_count": 11,
     "metadata": {},
     "output_type": "execute_result"
    }
   ],
   "source": [
    "# set the samplesize to be the sum of sample 1,2 & 3.\n",
    "samplesize = sample1 + sample2 + sample3\n",
    "samplesize"
   ]
  },
  {
   "cell_type": "code",
   "execution_count": 16,
   "metadata": {},
   "outputs": [],
   "source": [
    "#Create a function to create generate \"Female\"/\"Male\" to indicate gender based on a given probability:\n",
    "def calgender(femalepercent,samplenum):\n",
    "    newvals = np.random.choice([\"Female\", \"Male\"], \n",
    "                               samplenum,p = [femalepercent/100, (1 -femalepercent/100)])\n",
    "    return newvals"
   ]
  },
  {
   "cell_type": "markdown",
   "metadata": {},
   "source": [
    "3.5.1 Create an array gender1 for gender of AGE:of re offening under 21\n",
    "\n",
    "\n"
   ]
  },
  {
   "cell_type": "code",
   "execution_count": 17,
   "metadata": {},
   "outputs": [],
   "source": [
    "# female< 21 = 28.9%\n",
    "gender1 = calgender(28.9, sample1)"
   ]
  },
  {
   "cell_type": "code",
   "execution_count": 18,
   "metadata": {},
   "outputs": [
    {
     "data": {
      "image/png": "[encoded data removed]",
      "text/plain": [
       "<Figure size 842.4x595.44 with 1 Axes>"
      ]
     },
     "metadata": {},
     "output_type": "display_data"
    }
   ],
   "source": [
    "\n",
    "# plot a histogram of array gender\n",
    "plt.hist(gender1)\n",
    "# display the histogram \n",
    "plt.show()"
   ]
  },
  {
   "cell_type": "code",
   "execution_count": 19,
   "metadata": {},
   "outputs": [],
   "source": [
    "#Create an array gender2 for gender of Adults with one year re-offending rate (same probability so one array will do):\n",
    "\n",
    "# female >45 = 27.9%\n",
    "gender2 = calgender (27.9, (sample3+sample2))"
   ]
  },
  {
   "cell_type": "markdown",
   "metadata": {},
   "source": [
    "Plot the gender array for re offending over 45"
   ]
  },
  {
   "cell_type": "code",
   "execution_count": 21,
   "metadata": {},
   "outputs": [
    {
     "data": {
      "image/png": "[encoded data removed]",
      "text/plain": [
       "<Figure size 842.4x595.44 with 1 Axes>"
      ]
     },
     "metadata": {},
     "output_type": "display_data"
    }
   ],
   "source": [
    "\n",
    "# plot a histogram of array gender\n",
    "plt.hist(gender2)\n",
    "# display the histogram \n",
    "plt.show()"
   ]
  },
  {
   "cell_type": "code",
   "execution_count": 22,
   "metadata": {},
   "outputs": [
    {
     "data": {
      "text/plain": [
       "1000"
      ]
     },
     "execution_count": 22,
     "metadata": {},
     "output_type": "execute_result"
    }
   ],
   "source": [
    "#Create one array gender to represent gender for entire sample:\n",
    "\n",
    "\n",
    "gender = np.concatenate([gender1,gender2])\n",
    "len(gender)\n",
    "\n"
   ]
  },
  {
   "cell_type": "markdown",
   "metadata": {},
   "source": [
    "Create array with 1000 elements to represent whether they reoffended in under 6mts or between 6-12 mts"
   ]
  },
  {
   "cell_type": "code",
   "execution_count": null,
   "metadata": {},
   "outputs": [],
   "source": []
  },
  {
   "cell_type": "code",
   "execution_count": null,
   "metadata": {},
   "outputs": [],
   "source": []
  },
  {
   "cell_type": "code",
   "execution_count": null,
   "metadata": {},
   "outputs": [],
   "source": []
  },
  {
   "cell_type": "code",
   "execution_count": null,
   "metadata": {},
   "outputs": [],
   "source": []
  }
 ],
 "metadata": {
  "kernelspec": {
   "display_name": "Python 3",
   "language": "python",
   "name": "python3"
  },
  "language_info": {
   "codemirror_mode": {
    "name": "ipython",
    "version": 3
   },
   "file_extension": ".py",
   "mimetype": "text/x-python",
   "name": "python",
   "nbconvert_exporter": "python",
   "pygments_lexer": "ipython3",
   "version": "3.7.7"
  }
 },
 "nbformat": 4,
 "nbformat_minor": 4
}
